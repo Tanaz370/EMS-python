{
  "nbformat": 4,
  "nbformat_minor": 0,
  "metadata": {
    "colab": {
      "provenance": [],
      "authorship_tag": "ABX9TyNBSXCUSd5MOpYDLqEs2lhe",
      "include_colab_link": true
    },
    "kernelspec": {
      "name": "python3",
      "display_name": "Python 3"
    },
    "language_info": {
      "name": "python"
    }
  },
  "cells": [
    {
      "cell_type": "markdown",
      "metadata": {
        "id": "view-in-github",
        "colab_type": "text"
      },
      "source": [
        "<a href=\"https://colab.research.google.com/github/Tanaz370/EMS-python/blob/main/EMS.ipynb\" target=\"_parent\"><img src=\"https://colab.research.google.com/assets/colab-badge.svg\" alt=\"Open In Colab\"/></a>"
      ]
    },
    {
      "cell_type": "code",
      "execution_count": null,
      "metadata": {
        "colab": {
          "base_uri": "https://localhost:8080/"
        },
        "id": "6p7PC1UUuGP3",
        "outputId": "27ba2f16-eadb-4e51-86a7-2a28be952b6f"
      },
      "outputs": [
        {
          "output_type": "stream",
          "name": "stdout",
          "text": [
            "=== Employee Management System ===\n",
            "1. Add Employee\n",
            "2. View All Employees\n",
            "3. Search Employee\n",
            "4. Exit\n",
            "Enter your choice (1-4): 1\n",
            "Enter Employee ID: 1\n",
            "Enter Employee Name: satya\n",
            "Enter Employee Age: 27\n",
            "Enter Employee Department: hr\n",
            "Enter Employee Salary: 50000\n",
            "Employee satya added successfully!\n",
            "\n",
            "=== Employee Management System ===\n",
            "1. Add Employee\n",
            "2. View All Employees\n",
            "3. Search Employee\n",
            "4. Exit\n",
            "Enter your choice (1-4): 4\n",
            "Thank you for using Employee Management System. Goodbye!\n"
          ]
        }
      ],
      "source": [
        "# Employee Management System (EMS)\n",
        "\n",
        "# Step 1 - Initialize Employee Data\n",
        "employees = {\n",
        "    101: {'name': 'Satya', 'age': 27, 'department': 'HR', 'salary': 50000},\n",
        "    102: {'name': 'Ravi', 'age': 30, 'department': 'IT', 'salary': 70000},\n",
        "    103: {'name': 'Priya', 'age': 25, 'department': 'Finance', 'salary': 60000}\n",
        "}\n",
        "\n",
        "# Step 3 - Add Employee\n",
        "def add_employee():\n",
        "    try:\n",
        "        emp_id = int(input(\"Enter Employee ID: \"))\n",
        "        if emp_id in employees:\n",
        "            print(\"Employee ID already exists! Try again.\")\n",
        "            return\n",
        "        name = input(\"Enter Employee Name: \")\n",
        "        age = int(input(\"Enter Employee Age: \"))\n",
        "        department = input(\"Enter Employee Department: \")\n",
        "        salary = float(input(\"Enter Employee Salary: \"))\n",
        "\n",
        "        employees[emp_id] = {'name': name, 'age': age, 'department': department, 'salary': salary}\n",
        "        print(f\"Employee {name} added successfully!\\n\")\n",
        "    except ValueError:\n",
        "        print(\"Invalid input. Please enter correct details.\\n\")\n",
        "\n",
        "# Step 4 - View All Employees\n",
        "def view_employees():\n",
        "    if not employees:\n",
        "        print(\"No employees available.\\n\")\n",
        "    else:\n",
        "        print(\"\\n--- Employee Details ---\")\n",
        "        print(\"{:<10} {:<15} {:<10} {:<15} {:<10}\".format('ID', 'Name', 'Age', 'Department', 'Salary'))\n",
        "        print(\"-\" * 60)\n",
        "        for emp_id, details in employees.items():\n",
        "            print(\"{:<10} {:<15} {:<10} {:<15} {:<10}\".format(\n",
        "                emp_id, details['name'], details['age'], details['department'], details['salary']\n",
        "            ))\n",
        "        print()\n",
        "\n",
        "# Step 5 - Search Employee by ID\n",
        "def search_employee():\n",
        "    try:\n",
        "        emp_id = int(input(\"Enter Employee ID to search: \"))\n",
        "        if emp_id in employees:\n",
        "            details = employees[emp_id]\n",
        "            print(\"\\n--- Employee Found ---\")\n",
        "            print(f\"ID: {emp_id}\")\n",
        "            print(f\"Name: {details['name']}\")\n",
        "            print(f\"Age: {details['age']}\")\n",
        "            print(f\"Department: {details['department']}\")\n",
        "            print(f\"Salary: {details['salary']}\\n\")\n",
        "        else:\n",
        "            print(\"Employee not found.\\n\")\n",
        "    except ValueError:\n",
        "        print(\"Invalid ID. Please enter a number.\\n\")\n",
        "\n",
        "# Step 2 & 6 - Main Menu\n",
        "def main_menu():\n",
        "    while True:\n",
        "        print(\"=== Employee Management System ===\")\n",
        "        print(\"1. Add Employee\")\n",
        "        print(\"2. View All Employees\")\n",
        "        print(\"3. Search Employee\")\n",
        "        print(\"4. Exit\")\n",
        "\n",
        "        choice = input(\"Enter your choice (1-4): \")\n",
        "\n",
        "        if choice == '1':\n",
        "            add_employee()\n",
        "        elif choice == '2':\n",
        "            view_employees()\n",
        "        elif choice == '3':\n",
        "            search_employee()\n",
        "        elif choice == '4':\n",
        "            print(\"Thank you for using Employee Management System. Goodbye!\")\n",
        "            break\n",
        "        else:\n",
        "            print(\"Invalid choice! Please try again.\\n\")\n",
        "\n",
        "# Run the program\n",
        "if __name__ == \"__main__\":\n",
        "    main_menu()\n"
      ]
    }
  ]
}